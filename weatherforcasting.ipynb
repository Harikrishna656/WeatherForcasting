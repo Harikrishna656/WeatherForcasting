{
 "cells": [
  {
   "cell_type": "markdown",
   "id": "36621ad1",
   "metadata": {},
   "source": [
    "#import required packages"
   ]
  },
  {
   "cell_type": "code",
   "execution_count": 5,
   "id": "832eeb6d",
   "metadata": {},
   "outputs": [],
   "source": [
    "import streamlit as st\n",
    "import pandas as pd\n",
    "from PIL import Image\n",
    "import numpy as np\n",
    "import matplotlib.pyplot as plt\n",
    "import plotly.figure_factory as ff\n",
    "from sklearn.metrics import accuracy_score\n",
    "from sklearn.ensemble import RandomForestClassifier\n",
    "from sklearn.model_selection import train_test_split\n",
    "import seaborn as sns"
   ]
  },
  {
   "cell_type": "markdown",
   "id": "8d125701",
   "metadata": {},
   "source": [
    "#load required files(csv)"
   ]
  },
  {
   "cell_type": "code",
   "execution_count": 6,
   "id": "fd25c915",
   "metadata": {},
   "outputs": [],
   "source": [
    "df = pd.read_csv('weather with date.csv')\n",
    "met = pd.read_csv('meta_data.csv')\n",
    "df1 = pd.read_csv('data_weather.csv')"
   ]
  },
  {
   "cell_type": "markdown",
   "id": "14b509d6",
   "metadata": {},
   "source": [
    "#home navigation"
   ]
  },
  {
   "cell_type": "code",
   "execution_count": 7,
   "id": "c35b5180",
   "metadata": {},
   "outputs": [],
   "source": [
    "def home():\n",
    "\tst.title(\"WEARTHER ANALYSIS\")\n",
    "\tst.divider()\n",
    "\tst.caption(\"\"\":red[**_Weather_** forecasting] begins with an analysis of the current state of the temperature, wind speed, humidity, visibility and atmosphere pressure. Reliable observations drawn from many platforms, including satellites, radar, weather balloons, surface stations, and aircraft are crucial for generating accurate analyses\n",
    "\tHuman feedback is also required to choose the best possible forecast model on which to base the forecast\n",
    "\tEvery day the weather is recorded by the meteorologists and these records are preserved for decades\n",
    "\"\"\")\n"
   ]
  },
  {
   "cell_type": "markdown",
   "id": "da1e0b71",
   "metadata": {},
   "source": [
    "#data navigation"
   ]
  },
  {
   "cell_type": "code",
   "execution_count": 9,
   "id": "d5e5c9c0",
   "metadata": {},
   "outputs": [],
   "source": [
    "def data():\n",
    "\tcol1, col2, col3 = st.columns(3)\n",
    "\twith col1:\n",
    "\t\tc1=st.button('Dateset info')\n",
    "\t\tif c1:\n",
    "\t\t\tst.write(df1.head(10))\n",
    "\twith col2:\n",
    "\t\tc2=st.button(\"Describe\")\n",
    "\t\tif c2:\n",
    "\t\t\tst.write(df1.describe())\n",
    "\twith col3:\n",
    "\t\tc3=st.button(\"Meta Data\")\n",
    "\t\tif c3:\n",
    "\t\t\tst.caption(\"Metadata is data that describes or gives information about this data.\")\n",
    "\t\t\tst.write(met)"
   ]
  },
  {
   "cell_type": "markdown",
   "id": "1bc2c37f",
   "metadata": {},
   "source": [
    "#colunm navigation"
   ]
  },
  {
   "cell_type": "code",
   "execution_count": 11,
   "id": "0b7499ed",
   "metadata": {},
   "outputs": [],
   "source": [
    "def per():\n",
    "\tb,c,d= st.tabs([\"Date wise\",\"Weather wise\",\"bar plot\"])\n",
    "\n",
    "\twith b:\n",
    "\t\toptions=st.selectbox('select the variable',[\"Temp_C\",\"Dew Point Temp_C\",\"Rel Hum_%\",\"Wind Speed_km/h\",\"Visibility_km\",\"Press_kPa\",\"Weather\"])\n",
    "\t\tdate=st.selectbox('select the variable',[\"month\",\"day\",'year'])\n",
    "\t\t#ddd=st.slider('select lessthan 75 days range for better view:',1,100,(25,75))\n",
    "\n",
    "\t\t#ddd=(1,2,3,4,5,6,7,8,9,10,11,12)\n",
    "\t\tfig = plt.figure()\n",
    "\t\tif(options==\"Weather\"):\n",
    "\t\t\tplt.plot(df[date],df[options],'s')\n",
    "\t\telse:\n",
    "\t\t\tsns.lineplot(df[date],df[options])\n",
    "\t\t#plt.xticks(rotation='vertical')\n",
    "\t\t#plt.xticks(ddd)\n",
    "\t\t#plt.xlim(ddd)\n",
    "\t\tplt.xlabel('month')\n",
    "\t\tplt.ylabel(options)\n",
    "\t\tst.pyplot(fig)\n",
    "\n",
    "\twith c:\n",
    "\t\toptions1=st.selectbox('select the 1st variable',[\"Temp_C\",\"Dew Point Temp_C\",\"Rel Hum_%\",\"Wind Speed_km/h\",\"Visibility_km\",\"Press_kPa\"])\n",
    "\n",
    "\t\tfig = plt.figure()\n",
    "\t\tax = fig.add_axes([.1,.1,.8,.8])\t\n",
    "\t\tax1 = ax.plot(df[options1],df['Weather'],'s',color='red')\n",
    "\t\tplt.xlabel(options1)\n",
    "\n",
    "\t\t\t\t\n",
    "\t\tst.pyplot(fig)\n",
    "\twith d:\n",
    "\t\topt=st.selectbox('select variable',[\"Temp_C\",\"Dew Point Temp_C\",\"Rel Hum_%\",\"Wind Speed_km/h\",\"Visibility_km\",\"Press_kPa\"])\n",
    "\t\tfig=plt.figure()\n",
    "\t\tplt.bar(df.Weather,df[opt])\n",
    "\t\tplt.xticks(rotation='vertical')\n",
    "\t\tplt.ylabel(opt)\n",
    "\t\tst.pyplot(fig)"
   ]
  },
  {
   "cell_type": "markdown",
   "id": "c139dfe4",
   "metadata": {},
   "source": [
    "#forcasting navigation"
   ]
  },
  {
   "cell_type": "code",
   "execution_count": 13,
   "id": "08a68776",
   "metadata": {},
   "outputs": [],
   "source": [
    "def fore():\t\t\n",
    "\tx = df1.iloc[:,1:7]\n",
    "\ty = df1.iloc[:,-1]\n",
    "\tx_train1, x_test1, y_train1, y_test1 = train_test_split(x,y,train_size=0.99)\n",
    "\n",
    "\tdef user_report():\n",
    "\t\tTemp_C = st.sidebar.slider('Temp_C', -23.30,33.00, 3.00 )\n",
    "\t\tDew_Point_Temp_C = st.sidebar.slider('Dew Point Temp_C', -28.50,24.40, -0.20 )\n",
    "\t\tRel_Hum_ = st.sidebar.slider('Rel Hum_%', 18.00,100.00, 82.00 )\n",
    "\t\tWind_Speed_kmh = st.sidebar.slider('Wind Speed_km/h', 0.00,83.00, 13.00 )\n",
    "\t\tVisibility_km = st.sidebar.slider('Visibility_km', 2.40,48.30, 12.90 )\n",
    "\t\tPress_kPa = st.sidebar.slider('Press_kPa', 97.52,103.65, 99.93 )\n",
    "\t\t\n",
    "\n",
    "\n",
    "\t\tuser_report_data = {\n",
    "\t\t\t'Temp_C':Temp_C,\n",
    "\t\t\t'Dew Point Temp_C':Dew_Point_Temp_C,\n",
    "\t\t\t'Rel Hum_%':Rel_Hum_,\n",
    "\t\t\t'Wind Speed_km/h':Wind_Speed_kmh,\n",
    "\t\t\t'Visibility_km':Visibility_km,\n",
    "\t\t\t'Press_kPa':Press_kPa,\n",
    "\t\t\n",
    "\t\t}\n",
    "\t\treport_data = pd.DataFrame(user_report_data, index=[0])\n",
    "\t\treturn report_data\n",
    "\n",
    "\tuser_data = user_report()\n",
    "\tst.subheader('Weather Attribute')\n",
    "\tst.write(user_data)\n",
    "\n",
    "\tx_train=x_train1.values\n",
    "\ty_train=y_train1.values\n",
    "\n",
    "\trf  = RandomForestClassifier()\n",
    "\trf.fit(x_train, y_train)\n",
    "\tuser_result = rf.predict(user_data)\n",
    "\n",
    "\tst.subheader('Weather Report: ')\n",
    "\tst.write(user_result[0])\n",
    "\toutput=''\n",
    "\tloc='/img/'\n",
    "\timage=Image.open(loc+user_result[0]+'.jpg')\n",
    "\tst.image(image)\n",
    "\n",
    "\t\n",
    "\tst.title(output)\n",
    "\tst.write(str(accuracy_score(y_test1,rf.predict(x_test1))*100)+'%')"
   ]
  },
  {
   "cell_type": "markdown",
   "id": "40bd5577",
   "metadata": {},
   "source": [
    "#report navigation"
   ]
  },
  {
   "cell_type": "code",
   "execution_count": 17,
   "id": "36a82775",
   "metadata": {},
   "outputs": [],
   "source": [
    "def rep():\n",
    "\tst.title(\"Conclusion\")\n",
    "\tst.write(\"\"\"Generally, all the other weather forecasting applications and sources would give the weather report of that particular area.\n",
    "\t Using the previously recorded information, weather condition would be given at that place. The types of clouds the author considered, \n",
    "\t can deliberately give accurate condition of the weather. For now, the model can give the weather condition at that point of time.\"\"\")\n",
    "\tst.title(\"Future Work\")\n",
    "\tst.write(\"\"\"To get weather forecast for the next few days, we can modify our system by using different algorithms and use that as an \n",
    "\textension to our current project.\"\"\")\n",
    "\tst.title(\"Book Reference\")\n",
    "\tst.write(\"Deep Learning by Ian GoodFellow, Yoshuna Bengio and Aaron Courville\")\n",
    "\tst.write(\"Beginner's Guide to Streamlit with Python by Sujay Raghavendra\")\n",
    "\tst.title(\"Web Reference\")\n",
    "\tst.write(\"https://www.geeksforgeeks.org/random-forest-classifier-using-scikit-learn/\")\n",
    "\tst.write(\"https://docs.streamlit.io/\")\n",
    "\n",
    "st.sidebar.title('Navigation')\n",
    "side = st.sidebar.radio('Select what you want to display:', ['Home','Data set info', \"Forecasting\", 'graphs', \"Conclusion\"])\n",
    "\n",
    "if side == 'Home':\n",
    " \thome()\n",
    "elif side == 'Data set info':\n",
    " \tdata()\n",
    "elif side == 'graphs':\n",
    " \tper()\n",
    "elif side == 'Forecasting':  \n",
    "\tfore()\n",
    "elif side == 'Conclusion':\n",
    " \trep()"
   ]
  }
 ],
 "metadata": {
  "kernelspec": {
   "display_name": "Python 3 (ipykernel)",
   "language": "python",
   "name": "python3"
  },
  "language_info": {
   "codemirror_mode": {
    "name": "ipython",
    "version": 3
   },
   "file_extension": ".py",
   "mimetype": "text/x-python",
   "name": "python",
   "nbconvert_exporter": "python",
   "pygments_lexer": "ipython3",
   "version": "3.9.12"
  }
 },
 "nbformat": 4,
 "nbformat_minor": 5
}
